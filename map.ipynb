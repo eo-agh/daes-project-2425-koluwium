{
 "cells": [
  {
   "cell_type": "code",
   "execution_count": null,
   "metadata": {},
   "outputs": [],
   "source": [
    "import sqlite3\n",
    "import folium\n",
    "\n",
    "def create_station_map(database_name: str):\n",
    "    conn = sqlite3.connect(database_name)\n",
    "    cursor = conn.cursor()\n",
    "\n",
    "    cursor.execute(\"SELECT station_name, latitude, longitude FROM STATIONS WHERE latitude IS NOT NULL AND longitude IS NOT NULL\")\n",
    "    stations = cursor.fetchall()\n",
    "    conn.close()\n",
    "\n",
    "    poland_center = [52.0, 19.0]\n",
    "\n",
    "    mapa = folium.Map(location=poland_center, zoom_start=6)\n",
    "\n",
    "    for name, lat, lon in stations:\n",
    "        folium.Marker(\n",
    "            location=[lat, lon],\n",
    "            popup=name,\n",
    "            icon=folium.Icon(color=\"blue\", icon=\"info-sign\")\n",
    "        ).add_to(mapa)\n",
    "\n",
    "    return mapa\n",
    "\n",
    "create_station_map(\"data.db\")\n"
   ]
  }
 ],
 "metadata": {
  "kernelspec": {
   "display_name": "Python 3",
   "language": "python",
   "name": "python3"
  },
  "language_info": {
   "codemirror_mode": {
    "name": "ipython",
    "version": 3
   },
   "file_extension": ".py",
   "mimetype": "text/x-python",
   "name": "python",
   "nbconvert_exporter": "python",
   "pygments_lexer": "ipython3",
   "version": "3.11.11"
  }
 },
 "nbformat": 4,
 "nbformat_minor": 2
}
