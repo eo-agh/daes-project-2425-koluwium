{
 "cells": [
  {
   "cell_type": "code",
   "execution_count": null,
   "metadata": {},
   "outputs": [],
   "source": [
    "import requests\n",
    "\n",
    "api_key = \"680a31d866f4dc24edd479f2cae59c38\"\n",
    "\n",
    "location = 'Kraków'\n",
    "\n",
    "url = f'http://api.weatherstack.com/current?access_key={api_key}&query={location}'\n",
    "\n",
    "response = requests.get(url)\n",
    "data = response.json()\n",
    "\n",
    "if response.status_code == 200 and 'current' in data:\n",
    "    for key, value in data['current'].items():\n",
    "        print(f'{key}: {value}')\n",
    "else:\n",
    "    print('Błąd podczas pobierania danych:', data.get('error', 'Nieznany błąd'))\n"
   ]
  }
 ],
 "metadata": {
  "kernelspec": {
   "display_name": "daes-env",
   "language": "python",
   "name": "python3"
  },
  "language_info": {
   "codemirror_mode": {
    "name": "ipython",
    "version": 3
   },
   "file_extension": ".py",
   "mimetype": "text/x-python",
   "name": "python",
   "nbconvert_exporter": "python",
   "pygments_lexer": "ipython3",
   "version": "3.11.11"
  }
 },
 "nbformat": 4,
 "nbformat_minor": 2
}
